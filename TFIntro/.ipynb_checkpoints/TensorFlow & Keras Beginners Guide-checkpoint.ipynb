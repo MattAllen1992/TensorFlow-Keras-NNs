{
 "cells": [
  {
   "cell_type": "markdown",
   "id": "1161fb75",
   "metadata": {},
   "source": [
    "# TensorFlow Quickstart for Beginners\n",
    "Resources:\n",
    "* [Quickstart Guide](https://www.tensorflow.org/tutorials/quickstart/beginner)\n",
    "\n",
    "## Summary\n",
    "\n",
    "Steps:\n",
    "* Build a NN that classified images\n",
    "* Train it\n",
    "* Evaluate model accuracy"
   ]
  },
  {
   "cell_type": "code",
   "execution_count": 26,
   "id": "11a95c3a",
   "metadata": {},
   "outputs": [
    {
     "name": "stdout",
     "output_type": "stream",
     "text": [
      "2.0.0\n"
     ]
    }
   ],
   "source": [
    "import tensorflow as tf\n",
    "print(tf.__version__)"
   ]
  },
  {
   "cell_type": "code",
   "execution_count": 27,
   "id": "18d327b9",
   "metadata": {},
   "outputs": [],
   "source": [
    "# import tensorflow\n",
    "import tensorflow as tf\n",
    "\n",
    "# load mnist dataset into test and train vars\n",
    "mnist = tf.keras.datasets.mnist\n",
    "(x_train, y_train), (x_test, y_test) = mnist.load_data()\n",
    "x_train, x_test = x_train / 255.0, x_test / 255.0 # convert from int to float"
   ]
  },
  {
   "cell_type": "markdown",
   "id": "a3bb8d74",
   "metadata": {},
   "source": [
    "Inputs:\n",
    "* We have 60,000 training samples and 10,000 test samples\n",
    "* Features are comprised of 28x28 pixel images stored as floating point pixel values\n",
    "* Targets are integer values from 0-9 where the output value corresponds to the written digit being analysed"
   ]
  },
  {
   "cell_type": "code",
   "execution_count": 28,
   "id": "d550d198",
   "metadata": {},
   "outputs": [
    {
     "data": {
      "text/plain": [
       "(60000, 28, 28)"
      ]
     },
     "execution_count": 28,
     "metadata": {},
     "output_type": "execute_result"
    }
   ],
   "source": [
    "x_train.shape"
   ]
  },
  {
   "cell_type": "code",
   "execution_count": 29,
   "id": "05906026",
   "metadata": {},
   "outputs": [
    {
     "data": {
      "text/plain": [
       "(10000, 28, 28)"
      ]
     },
     "execution_count": 29,
     "metadata": {},
     "output_type": "execute_result"
    }
   ],
   "source": [
    "x_test.shape"
   ]
  },
  {
   "cell_type": "markdown",
   "id": "a4541a33",
   "metadata": {},
   "source": [
    "## Keras Layer Types\n",
    "\n",
    "Source: [Layer Types Explained](https://machinelearningknowledge.ai/different-types-of-keras-layers-explained-for-beginners/#:~:text=1%20Dense%20Layer.%20Dense%20Layer%20is%20a%20widely,...%208%20Pooling%20Layer.%20...%20More%20items...%20)\n",
    "\n",
    "Notes:\n",
    "* **Dense Layer:**\n",
    "    * [Keras Docs](https://keras.io/api/layers/core_layers/dense/)\n",
    "    * Standard ANN layer which computes the dot product of inputs and weights before adding a bias and applying an activation function\n",
    "    * You can specify shape/# of nodes, activation functions and so on\n",
    "* **Flatten Layer:**\n",
    "    * This simply takes a multi-dimensional input (e.g. 3x3) and flattens it into a single dimensional output (e.g. 1x9)\n",
    "* **Dropout Layer:**\n",
    "    * [How To Use Dropout Layers](https://machinelearningknowledge.ai/keras-dropout-layer-explained-for-beginners/#:~:text=%20How%20to%20use%20Dropout%20Layer%20in%20Keras%3F,more%20input%20values%20will%20be%20dropped.%20More%20)\n",
    "    * Reduces overfitting by dropping a specified % of nodes from the network (i.e. regularization)\n",
    "    * It helps to remove noise from the input neurons\n",
    "* **Reshape Layer:**\n",
    "    * Simply changes the shape of the input data to the specified output dimensions\n",
    "* **Permute Layer:**\n",
    "    * Applies a pattern to alter the shape of the input\n",
    "* **RepeatVector Layer:**\n",
    "    * Simply repeats the input vector the specified number of times\n",
    "    * e.g. repeating a 1x16 input 16 times results in a 16x16 output\n",
    "* **Lambda Layer:**\n",
    "    * Allows you to provide a custom function to transform your inputs\n",
    "    * This can be anything you want and you can specify the desired output shape, make, arguments etc.\n",
    "* **Pooling Layer:**\n",
    "    * Allows you to apply max, average, sum etc. pooling\n",
    "    * Reduces the input dimensions by a factor linked to the stride value you provide\n",
    "* **Locally Connected Layer:**\n",
    "    * Similar to 1D convolutional layers except that these do no share weights\n",
    "    \n",
    "## Building the Network\n",
    "Steps:\n",
    "* Create a sequential model that allows us to add layers as we choose\n",
    "* Flatten the initial 28x28 input into a single, flat 1x784 input\n",
    "* Dense layer with ReLU activation\n",
    "* Dropout layer to remove 20% of the nodes\n",
    "* Final dense layer with 10 outputs for classification"
   ]
  },
  {
   "cell_type": "code",
   "execution_count": 30,
   "id": "c71c74e9",
   "metadata": {},
   "outputs": [],
   "source": [
    "# ensure that all floats are handled as 64-bit (prevents later dtype inconsistencies)\n",
    "tf.keras.backend.set_floatx('float64')\n",
    "\n",
    "# build sequential model\n",
    "model = tf.keras.models.Sequential([\n",
    "    tf.keras.layers.Flatten(input_shape=(28, 28)),\n",
    "    tf.keras.layers.Dense(128, activation='relu'),\n",
    "    tf.keras.layers.Dropout(0.2),\n",
    "    tf.keras.layers.Dense(10) # you could use softmax here but the docs discourage it due to loss function stability (?)\n",
    "])"
   ]
  },
  {
   "cell_type": "markdown",
   "id": "cc22de71",
   "metadata": {},
   "source": [
    "## Predictions\n",
    "Notes:\n",
    "* Each training example returns log-odds scores for each class\n",
    "* This allows us to identify which output our model has identified for each input\n",
    "* Below you can see that the last class is the most likely but the third to last is also a contender\n",
    "* Our model is untrained at this point though so the predictions are mostly random"
   ]
  },
  {
   "cell_type": "code",
   "execution_count": 31,
   "id": "d0b2ce40",
   "metadata": {},
   "outputs": [
    {
     "data": {
      "text/plain": [
       "array([[ 0.50223266,  0.09964019,  0.2052093 , -0.25357763, -0.34214682,\n",
       "        -0.00222056,  0.59553801, -0.15264251,  0.13387654, -0.28319529]])"
      ]
     },
     "execution_count": 31,
     "metadata": {},
     "output_type": "execute_result"
    }
   ],
   "source": [
    "# make predictions on the first training sample and examine\n",
    "predictions = model(x_train[:1]).numpy()\n",
    "predictions"
   ]
  },
  {
   "cell_type": "markdown",
   "id": "9bb2583f",
   "metadata": {},
   "source": [
    "## Untrained Model\n",
    "Notes:\n",
    "* You can see above that our initial, untrained model has predicted the highest probability output classes as 7 and 9\n",
    "* But when we visualize the image in question below, we can clearly see that it's a 5 (or perhaps a squished 3)\n",
    "* This is simply due to our untrained model using essentially randomised weights, biases etc. and producing mostly random outputs"
   ]
  },
  {
   "cell_type": "code",
   "execution_count": 32,
   "id": "752a8da8",
   "metadata": {},
   "outputs": [
    {
     "data": {
      "text/plain": [
       "<matplotlib.image.AxesImage at 0x7f81a2464e90>"
      ]
     },
     "execution_count": 32,
     "metadata": {},
     "output_type": "execute_result"
    },
    {
     "data": {
      "image/png": "[encoded data removed]",
      "text/plain": [
       "<Figure size 432x288 with 1 Axes>"
      ]
     },
     "metadata": {
      "needs_background": "light"
     },
     "output_type": "display_data"
    }
   ],
   "source": [
    "# load numpy and visualization library\n",
    "from matplotlib.pyplot import imshow\n",
    "import numpy as np\n",
    "from PIL import Image\n",
    "\n",
    "# display image\n",
    "t = (x_train[:1]*255)      # convert pixel values from normalized (0-1) to greyscale (0-255)\n",
    "t = t.reshape(28, 28)      # reshape from (1, 28, 28) to (28, 28) otherwise pillow thinks it's a 1x28 image with 28 channels\n",
    "image = Image.fromarray(t) # convert to pillow image object\n",
    "#image.show()               # display in separate window\n",
    "imshow(np.asarray(image))  # display in-line"
   ]
  },
  {
   "cell_type": "markdown",
   "id": "2d1cfa66",
   "metadata": {},
   "source": [
    "## Loss Function\n",
    "Notes:\n",
    "* Here we use sparse categorical crossentropy\n",
    "* It determines the loss/error between our actual and predicted outcomes\n",
    "* It expects y_test target values to be integers of size n_classes\n",
    "* We pass in y_pred which has a probability score for each of the possible n_classes\n",
    "* It is used when we have 2+ output classes, we would instead use standard CategoricalCrossEntropy if we were performing one-hot encoding of our output classes\n",
    "* [SCCE](https://www.tensorflow.org/api_docs/python/tf/keras/losses/SparseCategoricalCrossentropy)\n",
    "* The untrained model gives close to random (1/10) probabilities for each class, meaning that our initial loss (below) is ~2.3 (negative log of the true class, 0 if the model is sure of the class)"
   ]
  },
  {
   "cell_type": "code",
   "execution_count": 33,
   "id": "dd8227cb",
   "metadata": {},
   "outputs": [
    {
     "data": {
      "text/plain": [
       "2.403571128845215"
      ]
     },
     "execution_count": 33,
     "metadata": {},
     "output_type": "execute_result"
    }
   ],
   "source": [
    "# define loss function\n",
    "loss_fn = tf.keras.losses.SparseCategoricalCrossentropy(from_logits=True)\n",
    "\n",
    "# calculate error between y_pred and y_test\n",
    "error = loss_fn(y_train[:1], predictions).numpy()\n",
    "error"
   ]
  },
  {
   "cell_type": "markdown",
   "id": "f2d5182e",
   "metadata": {},
   "source": [
    "## Fit/Train Our Model\n",
    "Notes:\n",
    "* Fit the model by adjusting weights, biases and other parameters to minimize the loss\n",
    "* Epochs are the number of runs through the training model (i.e. 1 epoch = 1 iteration over provided x and y data)\n",
    "* Batch size is used to split up large datasets, for example if your dataset is 10,000 samples and you set a batch size of 100, it will pass blocks of 100 samples to your model to be processed. Once the entire dataset is processed (in however many batches it takes, e.g. 100 in this example) then the model updates its weights and can move onto the next epoch\n",
    "    * [Batch Size Explained](https://androidkt.com/batch-size-step-iteration-epoch-neural-network/)\n",
    "* Lots of other options here such as weighting particular classes, shuffling, validating data etc. "
   ]
  },
  {
   "cell_type": "code",
   "execution_count": 35,
   "id": "f198cb8a",
   "metadata": {
    "scrolled": true
   },
   "outputs": [
    {
     "name": "stdout",
     "output_type": "stream",
     "text": [
      "Train on 60000 samples\n",
      "Epoch 1/5\n",
      "60000/60000 [==============================] - 8s 129us/sample - loss: 0.2976 - accuracy: 0.9125\n",
      "Epoch 2/5\n",
      "60000/60000 [==============================] - 7s 114us/sample - loss: 0.1444 - accuracy: 0.9571\n",
      "Epoch 3/5\n",
      "60000/60000 [==============================] - 7s 115us/sample - loss: 0.1090 - accuracy: 0.9674\n",
      "Epoch 4/5\n",
      "60000/60000 [==============================] - 7s 112us/sample - loss: 0.0879 - accuracy: 0.9723\n",
      "Epoch 5/5\n",
      "60000/60000 [==============================] - 7s 113us/sample - loss: 0.0765 - accuracy: 0.9755\n"
     ]
    },
    {
     "data": {
      "text/plain": [
       "<tensorflow.python.keras.callbacks.History at 0x7f818002ae10>"
      ]
     },
     "execution_count": 35,
     "metadata": {},
     "output_type": "execute_result"
    }
   ],
   "source": [
    "# compile model with selected optimizer, loss function and metrics\n",
    "model.compile(optimizer='adam',     # adaptive stochastic gradient descent\n",
    "              loss=loss_fn,\n",
    "              metrics=['accuracy'])\n",
    "\n",
    "# fit model to training data\n",
    "model.fit(x_train, y_train, epochs=5)"
   ]
  },
  {
   "cell_type": "markdown",
   "id": "3eab8816",
   "metadata": {},
   "source": [
    "## Model Evaluation\n",
    "Notes:\n",
    "* Validate the model on the test data\n",
    "* Essentially check if the output of the trained model is close to the actual outputs in our known test data\n",
    "* Below we see that the loss is small and the accuracy is high which is a good sign"
   ]
  },
  {
   "cell_type": "code",
   "execution_count": 36,
   "id": "95d1195a",
   "metadata": {},
   "outputs": [
    {
     "name": "stdout",
     "output_type": "stream",
     "text": [
      "10000/1 - 1s - loss: 0.0445 - accuracy: 0.9781\n"
     ]
    },
    {
     "data": {
      "text/plain": [
       "[0.07267672455775656, 0.9781]"
      ]
     },
     "execution_count": 36,
     "metadata": {},
     "output_type": "execute_result"
    }
   ],
   "source": [
    "# validate the model on the test data\n",
    "model.evaluate(x_test, y_test, verbose=2)"
   ]
  },
  {
   "cell_type": "markdown",
   "id": "2982a402",
   "metadata": {},
   "source": [
    "## Outputting Probability\n",
    "Notes:\n",
    "* Above we were looking at the raw log odds\n",
    "* However, we can use a softmax layer to output class probabilities\n",
    "* Below we add a softmax layer to the end of our model\n",
    "* This shows us that the 8th class (corresponding to \"7\") is the highest probability by far (99.997%)\n",
    "* And when we visualize the image itself we can see that this is spot on"
   ]
  },
  {
   "cell_type": "code",
   "execution_count": 41,
   "id": "7f9312a8",
   "metadata": {},
   "outputs": [
    {
     "data": {
      "text/plain": [
       "<tf.Tensor: id=30426, shape=(1, 10), dtype=float64, numpy=\n",
       "array([[2.79358427e-08, 1.23374100e-09, 5.35448220e-06, 1.55470574e-05,\n",
       "        5.46718690e-11, 1.09041789e-08, 3.98929383e-14, 9.99974092e-01,\n",
       "        2.68011807e-08, 4.93949183e-06]])>"
      ]
     },
     "execution_count": 41,
     "metadata": {},
     "output_type": "execute_result"
    }
   ],
   "source": [
    "# wrap model and add a softmax output layer\n",
    "probability_model = tf.keras.Sequential([\n",
    "    model,\n",
    "    tf.keras.layers.Softmax()\n",
    "])\n",
    "\n",
    "# run model on data, outputting probability instead of log-odds this time\n",
    "probs = probability_model(x_test[:1])\n",
    "probs"
   ]
  },
  {
   "cell_type": "code",
   "execution_count": 57,
   "id": "f49375b0",
   "metadata": {},
   "outputs": [
    {
     "data": {
      "text/plain": [
       "<matplotlib.image.AxesImage at 0x7f81837fb350>"
      ]
     },
     "execution_count": 57,
     "metadata": {},
     "output_type": "execute_result"
    },
    {
     "data": {
      "image/png": "[encoded data removed]",
      "text/plain": [
       "<Figure size 432x288 with 1 Axes>"
      ]
     },
     "metadata": {
      "needs_background": "light"
     },
     "output_type": "display_data"
    }
   ],
   "source": [
    "# display image\n",
    "t = (x_test[:1]*255)\n",
    "t = t.reshape(28, 28)\n",
    "image = Image.fromarray(t)\n",
    "imshow(np.asarray(image))"
   ]
  }
 ],
 "metadata": {
  "kernelspec": {
   "display_name": "Python 3",
   "language": "python",
   "name": "python3"
  },
  "language_info": {
   "codemirror_mode": {
    "name": "ipython",
    "version": 3
   },
   "file_extension": ".py",
   "mimetype": "text/x-python",
   "name": "python",
   "nbconvert_exporter": "python",
   "pygments_lexer": "ipython3",
   "version": "3.7.10"
  }
 },
 "nbformat": 4,
 "nbformat_minor": 5
}
